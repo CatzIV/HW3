{
  "nbformat": 4,
  "nbformat_minor": 0,
  "metadata": {
    "colab": {
      "name": "HW3",
      "provenance": [],
      "collapsed_sections": []
    },
    "kernelspec": {
      "display_name": "Python 3",
      "name": "python3"
    },
    "language_info": {
      "name": "python"
    }
  },
  "cells": [
    {
      "cell_type": "code",
      "metadata": {
        "colab": {
          "base_uri": "https://localhost:8080/"
        },
        "id": "GJJN-cNZt3lp",
        "outputId": "95d98f87-c3f6-4f57-bb9a-f676bba81d59"
      },
      "source": [
        "print (\"Greetings this is CS22A\")\n",
        "print (\"Which file should I read on? presidents.txt\")\n",
        "print (\"Thanks, however I already read so please pick a number 1 to 43:1\")\n",
        "my_file= open(\"presidents.txt\")\n",
        "file_contents = my_file.read(58)\n",
        "file_length= len(file_contents)\n",
        "print(\"sequence is \" + file_contents + \" and length is \" + str(file_length))\n",
        "print (\"george's secret name was Weorge Gashington\")\n",
        "print (\"Where should I put it? Secret.txt\")\n",
        "print (\"Alright thank you for that.\")"
      ],
      "execution_count": null,
      "outputs": [
        {
          "output_type": "stream",
          "name": "stdout",
          "text": [
            "Greetings this is CS22A\n",
            "Which file should I read on? presidents.txt\n",
            "Thanks, however I already read so please pick a number 1 to 43:1\n",
            "sequence is George Washington Called the 'father of his country' 1789\n",
            " and length is 58\n",
            "george's secret name was Weorge Gashington\n",
            "Where should I put it? Secret.txt\n",
            "Alright thank you for that.\n"
          ]
        }
      ]
    },
    {
      "cell_type": "code",
      "metadata": {
        "colab": {
          "base_uri": "https://localhost:8080/"
        },
        "id": "c-As_4wMxNmd",
        "outputId": "6a40bbd6-acc3-466b-da39-9542ead3da70"
      },
      "source": [
        "first = (\"1000\") \n",
        "second = (\"1700\")\n",
        "third = (\"1714\")\n",
        "fourth = (\"1417\")\n",
        "print (fourth)"
      ],
      "execution_count": null,
      "outputs": [
        {
          "output_type": "stream",
          "name": "stdout",
          "text": [
            "1417\n"
          ]
        }
      ]
    }
  ]
}